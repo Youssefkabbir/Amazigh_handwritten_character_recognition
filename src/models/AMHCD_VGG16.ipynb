{
 "cells": [
  {
   "cell_type": "markdown",
   "id": "f6109827",
   "metadata": {},
   "source": [
    "# Import the required Librairies"
   ]
  },
  {
   "cell_type": "code",
   "execution_count": 1,
   "id": "c1f6c593",
   "metadata": {},
   "outputs": [
    {
     "name": "stdout",
     "output_type": "stream",
     "text": [
      "the cell  executed without error\n"
     ]
    }
   ],
   "source": [
    "from keras.models import Sequential\n",
    "from keras.layers import Conv2D\n",
    "from keras.layers import MaxPooling2D\n",
    "from keras.layers import Flatten\n",
    "from keras.layers import Dense, Dropout\n",
    "from keras.models import load_model\n",
    "from keras.preprocessing.image import ImageDataGenerator\n",
    "import pandas as pd\n",
    "from keras.layers import Activation\n",
    "from sklearn.model_selection import train_test_split\n",
    "from keras.applications.vgg16 import VGG16\n",
    "from keras import layers, models, Model, optimizers\n",
    "from keras.optimizers import RMSprop,SGD,Adam\n",
    "from keras.callbacks import ModelCheckpoint, EarlyStopping, ReduceLROnPlateau\n",
    "import matplotlib.pyplot as plt\n",
    "\n",
    "print('the cell  executed without error')"
   ]
  },
  {
   "cell_type": "markdown",
   "id": "a3a5eec8",
   "metadata": {},
   "source": [
    "# Load  the data set "
   ]
  },
  {
   "cell_type": "code",
   "execution_count": 2,
   "id": "cbefa440",
   "metadata": {},
   "outputs": [],
   "source": [
    "number_Class=0\n",
    "Image_size=(224,224)\n",
    "Data=pd.read_csv(r\"C:\\Users\\kabir\\Projects\\Projects_Acadimic\\Amazigh_handwritten_character_recognition\\data\\processed\\Data.csv\")"
   ]
  },
  {
   "cell_type": "markdown",
   "id": "2b63f2d5",
   "metadata": {},
   "source": [
    "# Exploratory Data analysis"
   ]
  },
  {
   "cell_type": "markdown",
   "id": "f4df709d",
   "metadata": {},
   "source": [
    "here we will "
   ]
  },
  {
   "cell_type": "code",
   "execution_count": 5,
   "id": "3b610b2a",
   "metadata": {},
   "outputs": [
    {
     "data": {
      "text/plain": [
       "(25740, 2)"
      ]
     },
     "execution_count": 5,
     "metadata": {},
     "output_type": "execute_result"
    }
   ],
   "source": [
    "Data.shape"
   ]
  },
  {
   "cell_type": "code",
   "execution_count": 6,
   "id": "5ee58c8f",
   "metadata": {},
   "outputs": [
    {
     "data": {
      "text/html": [
       "<div>\n",
       "<style scoped>\n",
       "    .dataframe tbody tr th:only-of-type {\n",
       "        vertical-align: middle;\n",
       "    }\n",
       "\n",
       "    .dataframe tbody tr th {\n",
       "        vertical-align: top;\n",
       "    }\n",
       "\n",
       "    .dataframe thead th {\n",
       "        text-align: right;\n",
       "    }\n",
       "</style>\n",
       "<table border=\"1\" class=\"dataframe\">\n",
       "  <thead>\n",
       "    <tr style=\"text-align: right;\">\n",
       "      <th></th>\n",
       "      <th>path</th>\n",
       "      <th>classe</th>\n",
       "    </tr>\n",
       "  </thead>\n",
       "  <tbody>\n",
       "    <tr>\n",
       "      <th>0</th>\n",
       "      <td>C:\\Users\\kabir\\Projects\\Projects_Acadimic\\Amaz...</td>\n",
       "      <td>ya</td>\n",
       "    </tr>\n",
       "    <tr>\n",
       "      <th>1</th>\n",
       "      <td>C:\\Users\\kabir\\Projects\\Projects_Acadimic\\Amaz...</td>\n",
       "      <td>ya</td>\n",
       "    </tr>\n",
       "    <tr>\n",
       "      <th>2</th>\n",
       "      <td>C:\\Users\\kabir\\Projects\\Projects_Acadimic\\Amaz...</td>\n",
       "      <td>ya</td>\n",
       "    </tr>\n",
       "    <tr>\n",
       "      <th>3</th>\n",
       "      <td>C:\\Users\\kabir\\Projects\\Projects_Acadimic\\Amaz...</td>\n",
       "      <td>ya</td>\n",
       "    </tr>\n",
       "    <tr>\n",
       "      <th>4</th>\n",
       "      <td>C:\\Users\\kabir\\Projects\\Projects_Acadimic\\Amaz...</td>\n",
       "      <td>ya</td>\n",
       "    </tr>\n",
       "  </tbody>\n",
       "</table>\n",
       "</div>"
      ],
      "text/plain": [
       "                                                path classe\n",
       "0  C:\\Users\\kabir\\Projects\\Projects_Acadimic\\Amaz...     ya\n",
       "1  C:\\Users\\kabir\\Projects\\Projects_Acadimic\\Amaz...     ya\n",
       "2  C:\\Users\\kabir\\Projects\\Projects_Acadimic\\Amaz...     ya\n",
       "3  C:\\Users\\kabir\\Projects\\Projects_Acadimic\\Amaz...     ya\n",
       "4  C:\\Users\\kabir\\Projects\\Projects_Acadimic\\Amaz...     ya"
      ]
     },
     "execution_count": 6,
     "metadata": {},
     "output_type": "execute_result"
    }
   ],
   "source": [
    "Data.head()"
   ]
  },
  {
   "cell_type": "code",
   "execution_count": null,
   "id": "442561f3",
   "metadata": {},
   "outputs": [],
   "source": [
    "Data"
   ]
  }
 ],
 "metadata": {
  "kernelspec": {
   "display_name": "Python 3 (ipykernel)",
   "language": "python",
   "name": "python3"
  },
  "language_info": {
   "codemirror_mode": {
    "name": "ipython",
    "version": 3
   },
   "file_extension": ".py",
   "mimetype": "text/x-python",
   "name": "python",
   "nbconvert_exporter": "python",
   "pygments_lexer": "ipython3",
   "version": "3.8.16"
  }
 },
 "nbformat": 4,
 "nbformat_minor": 5
}
