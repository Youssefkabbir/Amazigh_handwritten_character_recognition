{
 "cells": [
  {
   "cell_type": "markdown",
   "id": "f6109827",
   "metadata": {},
   "source": [
    "# Import the required Librairies"
   ]
  },
  {
   "cell_type": "code",
   "execution_count": 1,
   "id": "c1f6c593",
   "metadata": {},
   "outputs": [
    {
     "name": "stdout",
     "output_type": "stream",
     "text": [
      "the cell  executed without error\n"
     ]
    }
   ],
   "source": [
    "from keras.models import Sequential\n",
    "from keras.layers import Conv2D\n",
    "from keras.layers import MaxPooling2D\n",
    "from keras.layers import Flatten\n",
    "from keras.layers import Dense, Dropout\n",
    "from keras.models import load_model\n",
    "from keras.preprocessing.image import ImageDataGenerator\n",
    "import pandas as pd\n",
    "from keras.layers import Activation\n",
    "from sklearn.model_selection import train_test_split\n",
    "from keras.applications.vgg16 import VGG16\n",
    "from keras import layers, models, Model, optimizers\n",
    "from keras.optimizers import RMSprop,SGD,Adam\n",
    "from keras.callbacks import ModelCheckpoint, EarlyStopping, ReduceLROnPlateau\n",
    "import matplotlib.pyplot as plt\n",
    "\n",
    "print('the cell  executed without error')"
   ]
  },
  {
   "cell_type": "markdown",
   "id": "a3a5eec8",
   "metadata": {},
   "source": [
    "# Load  the data set "
   ]
  },
  {
   "cell_type": "code",
   "execution_count": 3,
   "id": "cbefa440",
   "metadata": {},
   "outputs": [],
   "source": [
    "number_Class=0\n",
    "Image_size=(224,224)\n",
    "Data=pd.read_csv(r\"C:\\Users\\kabir\\Projects\\Projects_Acadimic\\Amazigh_handwritten_character_recognition\\data\\processed\\Data.csv\")"
   ]
  },
  {
   "cell_type": "code",
   "execution_count": null,
   "id": "a1fe956d",
   "metadata": {},
   "outputs": [],
   "source": [
    "Exploratory Data analysis"
   ]
  },
  {
   "cell_type": "code",
   "execution_count": 4,
   "id": "6df4e839",
   "metadata": {},
   "outputs": [
    {
     "data": {
      "text/html": [
       "<div>\n",
       "<style scoped>\n",
       "    .dataframe tbody tr th:only-of-type {\n",
       "        vertical-align: middle;\n",
       "    }\n",
       "\n",
       "    .dataframe tbody tr th {\n",
       "        vertical-align: top;\n",
       "    }\n",
       "\n",
       "    .dataframe thead th {\n",
       "        text-align: right;\n",
       "    }\n",
       "</style>\n",
       "<table border=\"1\" class=\"dataframe\">\n",
       "  <thead>\n",
       "    <tr style=\"text-align: right;\">\n",
       "      <th></th>\n",
       "      <th>path</th>\n",
       "      <th>classe</th>\n",
       "    </tr>\n",
       "  </thead>\n",
       "  <tbody>\n",
       "    <tr>\n",
       "      <th>0</th>\n",
       "      <td>C:\\Users\\kabir\\Projects\\Projects_Acadimic\\Amaz...</td>\n",
       "      <td>ya</td>\n",
       "    </tr>\n",
       "    <tr>\n",
       "      <th>1</th>\n",
       "      <td>C:\\Users\\kabir\\Projects\\Projects_Acadimic\\Amaz...</td>\n",
       "      <td>ya</td>\n",
       "    </tr>\n",
       "    <tr>\n",
       "      <th>2</th>\n",
       "      <td>C:\\Users\\kabir\\Projects\\Projects_Acadimic\\Amaz...</td>\n",
       "      <td>ya</td>\n",
       "    </tr>\n",
       "    <tr>\n",
       "      <th>3</th>\n",
       "      <td>C:\\Users\\kabir\\Projects\\Projects_Acadimic\\Amaz...</td>\n",
       "      <td>ya</td>\n",
       "    </tr>\n",
       "    <tr>\n",
       "      <th>4</th>\n",
       "      <td>C:\\Users\\kabir\\Projects\\Projects_Acadimic\\Amaz...</td>\n",
       "      <td>ya</td>\n",
       "    </tr>\n",
       "    <tr>\n",
       "      <th>...</th>\n",
       "      <td>...</td>\n",
       "      <td>...</td>\n",
       "    </tr>\n",
       "    <tr>\n",
       "      <th>25735</th>\n",
       "      <td>C:\\Users\\kabir\\Projects\\Projects_Acadimic\\Amaz...</td>\n",
       "      <td>yu</td>\n",
       "    </tr>\n",
       "    <tr>\n",
       "      <th>25736</th>\n",
       "      <td>C:\\Users\\kabir\\Projects\\Projects_Acadimic\\Amaz...</td>\n",
       "      <td>yu</td>\n",
       "    </tr>\n",
       "    <tr>\n",
       "      <th>25737</th>\n",
       "      <td>C:\\Users\\kabir\\Projects\\Projects_Acadimic\\Amaz...</td>\n",
       "      <td>yu</td>\n",
       "    </tr>\n",
       "    <tr>\n",
       "      <th>25738</th>\n",
       "      <td>C:\\Users\\kabir\\Projects\\Projects_Acadimic\\Amaz...</td>\n",
       "      <td>yu</td>\n",
       "    </tr>\n",
       "    <tr>\n",
       "      <th>25739</th>\n",
       "      <td>C:\\Users\\kabir\\Projects\\Projects_Acadimic\\Amaz...</td>\n",
       "      <td>yu</td>\n",
       "    </tr>\n",
       "  </tbody>\n",
       "</table>\n",
       "<p>25740 rows × 2 columns</p>\n",
       "</div>"
      ],
      "text/plain": [
       "                                                    path classe\n",
       "0      C:\\Users\\kabir\\Projects\\Projects_Acadimic\\Amaz...     ya\n",
       "1      C:\\Users\\kabir\\Projects\\Projects_Acadimic\\Amaz...     ya\n",
       "2      C:\\Users\\kabir\\Projects\\Projects_Acadimic\\Amaz...     ya\n",
       "3      C:\\Users\\kabir\\Projects\\Projects_Acadimic\\Amaz...     ya\n",
       "4      C:\\Users\\kabir\\Projects\\Projects_Acadimic\\Amaz...     ya\n",
       "...                                                  ...    ...\n",
       "25735  C:\\Users\\kabir\\Projects\\Projects_Acadimic\\Amaz...     yu\n",
       "25736  C:\\Users\\kabir\\Projects\\Projects_Acadimic\\Amaz...     yu\n",
       "25737  C:\\Users\\kabir\\Projects\\Projects_Acadimic\\Amaz...     yu\n",
       "25738  C:\\Users\\kabir\\Projects\\Projects_Acadimic\\Amaz...     yu\n",
       "25739  C:\\Users\\kabir\\Projects\\Projects_Acadimic\\Amaz...     yu\n",
       "\n",
       "[25740 rows x 2 columns]"
      ]
     },
     "execution_count": 4,
     "metadata": {},
     "output_type": "execute_result"
    }
   ],
   "source": [
    "Data"
   ]
  },
  {
   "cell_type": "code",
   "execution_count": null,
   "id": "22354d08",
   "metadata": {},
   "outputs": [],
   "source": []
  }
 ],
 "metadata": {
  "kernelspec": {
   "display_name": "Python 3 (ipykernel)",
   "language": "python",
   "name": "python3"
  },
  "language_info": {
   "codemirror_mode": {
    "name": "ipython",
    "version": 3
   },
   "file_extension": ".py",
   "mimetype": "text/x-python",
   "name": "python",
   "nbconvert_exporter": "python",
   "pygments_lexer": "ipython3",
   "version": "3.8.16"
  }
 },
 "nbformat": 4,
 "nbformat_minor": 5
}
