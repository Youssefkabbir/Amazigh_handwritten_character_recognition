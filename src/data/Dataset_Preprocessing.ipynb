{
 "cells": [
  {
   "cell_type": "code",
   "execution_count": null,
   "id": "6949a632",
   "metadata": {},
   "outputs": [],
   "source": [
    "import os\n",
    "import pandas as pd\n",
    "#This is the paht of our Dataset\n",
    "train_data_dir='../input/facereco/Mydatabase/Train'\n",
    "#WE create the list  class_name and the list Predecctors\n",
    "class_name = []\n",
    "Predectors = []\n",
    "#this variable to see the number of samples of each class\n",
    "i=0\n",
    "#on va boucler dans toutes les dossiers qu' otn dans le chemin train_data_dir\n",
    "folders=os.listdir(train_data_dir)\n",
    "for class_dir in folders:\n",
    "    i=0\n",
    "    print(class_dir)    \n",
    "    for image_name in os.listdir(os.path.join(train_data_dir, class_dir)):\n",
    "        path_image=os.path.join(train_data_dir,class_dir, image_name)\n",
    "        #on ajoute cahque classe que on trouve dans notre  dataset à la liste Y           \n",
    "        class_name.append(class_dir)\n",
    "        #on ajoute cahque chemin de chaque image que on trouve dans notre  dataset à la liste Z           \n",
    "        Predectors.append(path_image)\n",
    "        i+=1\n",
    "    #on ' affiche le nombre des échontillions  de chaque sous dossier\n",
    "    print(i)\n",
    "           \n",
    "label = pd.DataFrame(class_name,columns=['classe']) \n",
    "path = pd.DataFrame(Predectors,columns=['path']) \n",
    "result2 = pd.merge(path,label,left_index=True, right_index=True)\n",
    "#on transforme notre data en  format .csv\n",
    "result2.to_csv ('./train.csv',index = None, header=True)\n",
    "#result2.to_csv (r'F:\\\\VesrionFinal\\\\datacsv\\\\validation.csv',index = None, header=True)"
   ]
  }
 ],
 "metadata": {
  "kernelspec": {
   "display_name": "Python 3 (ipykernel)",
   "language": "python",
   "name": "python3"
  },
  "language_info": {
   "codemirror_mode": {
    "name": "ipython",
    "version": 3
   },
   "file_extension": ".py",
   "mimetype": "text/x-python",
   "name": "python",
   "nbconvert_exporter": "python",
   "pygments_lexer": "ipython3",
   "version": "3.8.16"
  }
 },
 "nbformat": 4,
 "nbformat_minor": 5
}
