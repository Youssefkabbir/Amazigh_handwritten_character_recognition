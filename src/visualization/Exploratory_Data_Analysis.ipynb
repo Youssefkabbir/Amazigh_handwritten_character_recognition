{
 "cells": [
  {
   "cell_type": "markdown",
   "id": "c49faa50",
   "metadata": {},
   "source": [
    "# Import the Required Librairies"
   ]
  },
  {
   "cell_type": "code",
   "execution_count": 11,
   "id": "70b53abb",
   "metadata": {},
   "outputs": [],
   "source": [
    "import numpy as np\n",
    "import pandas as pd\n",
    "import matplotlib.pylab as plt\n",
    "import seaborn as sns\n",
    "import os\n",
    "plt.style.use('ggplot')\n",
    "#To show  200 columns of the Dataframe\n",
    "pd.set_option('max_info_columns', 200)"
   ]
  },
  {
   "cell_type": "markdown",
   "id": "c74e5bbc",
   "metadata": {},
   "source": [
    "# Load the Dataset"
   ]
  },
  {
   "cell_type": "code",
   "execution_count": 17,
   "id": "0f9f5485",
   "metadata": {},
   "outputs": [],
   "source": [
    "#Data=pd.read_csv(os.path.join(os.path.dirname(__file__), \"data\\processed\\Data.csv\"))\n",
    "\n",
    "Data=pd.read_csv(r\"C:\\Users\\kabir\\Projects\\Projects_Acadimic\\Amazigh_handwritten_character_recognition\\data\\processed\\Data.csv\")"
   ]
  },
  {
   "cell_type": "markdown",
   "id": "479905d2",
   "metadata": {},
   "source": [
    "#  Let us show the shape of the Data"
   ]
  },
  {
   "cell_type": "code",
   "execution_count": 20,
   "id": "facfe0ed",
   "metadata": {},
   "outputs": [
    {
     "data": {
      "text/plain": [
       "(25740, 2)"
      ]
     },
     "execution_count": 20,
     "metadata": {},
     "output_type": "execute_result"
    }
   ],
   "source": [
    "Data.shape"
   ]
  },
  {
   "cell_type": "markdown",
   "id": "4b6f8091",
   "metadata": {},
   "source": [
    "# this Command is used to show the top 5 examples"
   ]
  },
  {
   "cell_type": "code",
   "execution_count": 21,
   "id": "9cd14b6c",
   "metadata": {},
   "outputs": [
    {
     "data": {
      "text/html": [
       "<div>\n",
       "<style scoped>\n",
       "    .dataframe tbody tr th:only-of-type {\n",
       "        vertical-align: middle;\n",
       "    }\n",
       "\n",
       "    .dataframe tbody tr th {\n",
       "        vertical-align: top;\n",
       "    }\n",
       "\n",
       "    .dataframe thead th {\n",
       "        text-align: right;\n",
       "    }\n",
       "</style>\n",
       "<table border=\"1\" class=\"dataframe\">\n",
       "  <thead>\n",
       "    <tr style=\"text-align: right;\">\n",
       "      <th></th>\n",
       "      <th>path</th>\n",
       "      <th>classe</th>\n",
       "    </tr>\n",
       "  </thead>\n",
       "  <tbody>\n",
       "    <tr>\n",
       "      <th>0</th>\n",
       "      <td>C:\\Users\\kabir\\Projects\\Projects_Acadimic\\Amaz...</td>\n",
       "      <td>ya</td>\n",
       "    </tr>\n",
       "    <tr>\n",
       "      <th>1</th>\n",
       "      <td>C:\\Users\\kabir\\Projects\\Projects_Acadimic\\Amaz...</td>\n",
       "      <td>ya</td>\n",
       "    </tr>\n",
       "    <tr>\n",
       "      <th>2</th>\n",
       "      <td>C:\\Users\\kabir\\Projects\\Projects_Acadimic\\Amaz...</td>\n",
       "      <td>ya</td>\n",
       "    </tr>\n",
       "    <tr>\n",
       "      <th>3</th>\n",
       "      <td>C:\\Users\\kabir\\Projects\\Projects_Acadimic\\Amaz...</td>\n",
       "      <td>ya</td>\n",
       "    </tr>\n",
       "    <tr>\n",
       "      <th>4</th>\n",
       "      <td>C:\\Users\\kabir\\Projects\\Projects_Acadimic\\Amaz...</td>\n",
       "      <td>ya</td>\n",
       "    </tr>\n",
       "  </tbody>\n",
       "</table>\n",
       "</div>"
      ],
      "text/plain": [
       "                                                path classe\n",
       "0  C:\\Users\\kabir\\Projects\\Projects_Acadimic\\Amaz...     ya\n",
       "1  C:\\Users\\kabir\\Projects\\Projects_Acadimic\\Amaz...     ya\n",
       "2  C:\\Users\\kabir\\Projects\\Projects_Acadimic\\Amaz...     ya\n",
       "3  C:\\Users\\kabir\\Projects\\Projects_Acadimic\\Amaz...     ya\n",
       "4  C:\\Users\\kabir\\Projects\\Projects_Acadimic\\Amaz...     ya"
      ]
     },
     "execution_count": 21,
     "metadata": {},
     "output_type": "execute_result"
    }
   ],
   "source": [
    "Data.head()"
   ]
  },
  {
   "cell_type": "markdown",
   "id": "4711f0e1",
   "metadata": {},
   "source": [
    "# If we want to display the last 5 examples we use the tail function"
   ]
  },
  {
   "cell_type": "code",
   "execution_count": 23,
   "id": "8f9db3d2",
   "metadata": {},
   "outputs": [
    {
     "data": {
      "text/html": [
       "<div>\n",
       "<style scoped>\n",
       "    .dataframe tbody tr th:only-of-type {\n",
       "        vertical-align: middle;\n",
       "    }\n",
       "\n",
       "    .dataframe tbody tr th {\n",
       "        vertical-align: top;\n",
       "    }\n",
       "\n",
       "    .dataframe thead th {\n",
       "        text-align: right;\n",
       "    }\n",
       "</style>\n",
       "<table border=\"1\" class=\"dataframe\">\n",
       "  <thead>\n",
       "    <tr style=\"text-align: right;\">\n",
       "      <th></th>\n",
       "      <th>path</th>\n",
       "      <th>classe</th>\n",
       "    </tr>\n",
       "  </thead>\n",
       "  <tbody>\n",
       "    <tr>\n",
       "      <th>25735</th>\n",
       "      <td>C:\\Users\\kabir\\Projects\\Projects_Acadimic\\Amaz...</td>\n",
       "      <td>yu</td>\n",
       "    </tr>\n",
       "    <tr>\n",
       "      <th>25736</th>\n",
       "      <td>C:\\Users\\kabir\\Projects\\Projects_Acadimic\\Amaz...</td>\n",
       "      <td>yu</td>\n",
       "    </tr>\n",
       "    <tr>\n",
       "      <th>25737</th>\n",
       "      <td>C:\\Users\\kabir\\Projects\\Projects_Acadimic\\Amaz...</td>\n",
       "      <td>yu</td>\n",
       "    </tr>\n",
       "    <tr>\n",
       "      <th>25738</th>\n",
       "      <td>C:\\Users\\kabir\\Projects\\Projects_Acadimic\\Amaz...</td>\n",
       "      <td>yu</td>\n",
       "    </tr>\n",
       "    <tr>\n",
       "      <th>25739</th>\n",
       "      <td>C:\\Users\\kabir\\Projects\\Projects_Acadimic\\Amaz...</td>\n",
       "      <td>yu</td>\n",
       "    </tr>\n",
       "  </tbody>\n",
       "</table>\n",
       "</div>"
      ],
      "text/plain": [
       "                                                    path classe\n",
       "25735  C:\\Users\\kabir\\Projects\\Projects_Acadimic\\Amaz...     yu\n",
       "25736  C:\\Users\\kabir\\Projects\\Projects_Acadimic\\Amaz...     yu\n",
       "25737  C:\\Users\\kabir\\Projects\\Projects_Acadimic\\Amaz...     yu\n",
       "25738  C:\\Users\\kabir\\Projects\\Projects_Acadimic\\Amaz...     yu\n",
       "25739  C:\\Users\\kabir\\Projects\\Projects_Acadimic\\Amaz...     yu"
      ]
     },
     "execution_count": 23,
     "metadata": {},
     "output_type": "execute_result"
    }
   ],
   "source": [
    " Data.tail()"
   ]
  },
  {
   "cell_type": "markdown",
   "id": "6e4f0136",
   "metadata": {},
   "source": [
    "# This is the command that lets us know which columns the dataset contains"
   ]
  },
  {
   "cell_type": "code",
   "execution_count": 24,
   "id": "1912a245",
   "metadata": {},
   "outputs": [
    {
     "data": {
      "text/plain": [
       "Index(['path', 'classe'], dtype='object')"
      ]
     },
     "execution_count": 24,
     "metadata": {},
     "output_type": "execute_result"
    }
   ],
   "source": [
    "Data.columns"
   ]
  },
  {
   "cell_type": "markdown",
   "id": "e38d3820",
   "metadata": {},
   "source": [
    "# To see which type   our dataset is  use this Command"
   ]
  },
  {
   "cell_type": "code",
   "execution_count": 25,
   "id": "dc99e1fa",
   "metadata": {},
   "outputs": [
    {
     "data": {
      "text/plain": [
       "path      object\n",
       "classe    object\n",
       "dtype: object"
      ]
     },
     "execution_count": 25,
     "metadata": {},
     "output_type": "execute_result"
    }
   ],
   "source": [
    "Data.dtypes"
   ]
  },
  {
   "cell_type": "markdown",
   "id": "10e1e7b2",
   "metadata": {},
   "source": [
    "# To return descritption of the data we use  describe function"
   ]
  },
  {
   "cell_type": "code",
   "execution_count": 38,
   "id": "87b4d570",
   "metadata": {},
   "outputs": [
    {
     "data": {
      "text/html": [
       "<div>\n",
       "<style scoped>\n",
       "    .dataframe tbody tr th:only-of-type {\n",
       "        vertical-align: middle;\n",
       "    }\n",
       "\n",
       "    .dataframe tbody tr th {\n",
       "        vertical-align: top;\n",
       "    }\n",
       "\n",
       "    .dataframe thead th {\n",
       "        text-align: right;\n",
       "    }\n",
       "</style>\n",
       "<table border=\"1\" class=\"dataframe\">\n",
       "  <thead>\n",
       "    <tr style=\"text-align: right;\">\n",
       "      <th></th>\n",
       "      <th>path</th>\n",
       "      <th>classe</th>\n",
       "    </tr>\n",
       "  </thead>\n",
       "  <tbody>\n",
       "    <tr>\n",
       "      <th>count</th>\n",
       "      <td>25740</td>\n",
       "      <td>25740</td>\n",
       "    </tr>\n",
       "    <tr>\n",
       "      <th>unique</th>\n",
       "      <td>25740</td>\n",
       "      <td>33</td>\n",
       "    </tr>\n",
       "    <tr>\n",
       "      <th>top</th>\n",
       "      <td>C:\\Users\\kabir\\Projects\\Projects_Acadimic\\Amaz...</td>\n",
       "      <td>ya</td>\n",
       "    </tr>\n",
       "    <tr>\n",
       "      <th>freq</th>\n",
       "      <td>1</td>\n",
       "      <td>780</td>\n",
       "    </tr>\n",
       "  </tbody>\n",
       "</table>\n",
       "</div>"
      ],
      "text/plain": [
       "                                                     path classe\n",
       "count                                               25740  25740\n",
       "unique                                              25740     33\n",
       "top     C:\\Users\\kabir\\Projects\\Projects_Acadimic\\Amaz...     ya\n",
       "freq                                                    1    780"
      ]
     },
     "execution_count": 38,
     "metadata": {},
     "output_type": "execute_result"
    }
   ],
   "source": [
    "Data.describe()"
   ]
  },
  {
   "cell_type": "markdown",
   "id": "0776f048",
   "metadata": {},
   "source": [
    "# Feature Understanding"
   ]
  },
  {
   "cell_type": "code",
   "execution_count": null,
   "id": "49f6e74e",
   "metadata": {},
   "outputs": [],
   "source": []
  }
 ],
 "metadata": {
  "kernelspec": {
   "display_name": "Python 3 (ipykernel)",
   "language": "python",
   "name": "python3"
  },
  "language_info": {
   "codemirror_mode": {
    "name": "ipython",
    "version": 3
   },
   "file_extension": ".py",
   "mimetype": "text/x-python",
   "name": "python",
   "nbconvert_exporter": "python",
   "pygments_lexer": "ipython3",
   "version": "3.8.16"
  }
 },
 "nbformat": 4,
 "nbformat_minor": 5
}
